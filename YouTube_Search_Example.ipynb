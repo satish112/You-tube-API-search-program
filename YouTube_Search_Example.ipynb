{
 "nbformat": 4,
 "nbformat_minor": 0,
 "metadata": {
  "colab": {
   "name": "YouTube_Search_Example.ipynb",
   "version": "0.3.2",
   "provenance": [],
   "collapsed_sections": []
  },
  "kernelspec": {
   "name": "pycharm-17308d06",
   "language": "python",
   "display_name": "PyCharm (YouTube_Search_Example.ipynb)"
  },
  "pycharm": {
   "stem_cell": {
    "cell_type": "raw",
    "source": [],
    "metadata": {
     "collapsed": false
    }
   }
  }
 },
 "cells": [
  {
   "metadata": {
    "id": "IbpIX7PjOpud",
    "colab_type": "code",
    "colab": {
     "base_uri": "https://localhost:8080/",
     "height": 476
    },
    "outputId": "96750931-a7ee-4afa-9d9e-64c95c8d171c",
    "executionInfo": {
     "status": "ok",
     "timestamp": 1554950160181,
     "user_tz": 300,
     "elapsed": 1456,
     "user": {
      "displayName": "James Ortega",
      "photoUrl": "",
      "userId": "14404280488033267521"
     }
    }
   },
   "cell_type": "code",
   "source": [
    "#Satish Rella\n",
    "# From: https://github.com/youtube/api-samples/blob/master/python/geolocation_search.py\n",
    "\n",
    "#!/usr/bin/python\n",
    "\n",
    "# This sample executes a search request for the specified search term.\n",
    "# Sample usage:\n",
    "#   python geolocation_search.py --q=surfing --location-\"37.42307,-122.08427\" --location-radius=50km --max-results=10\n",
    "# NOTE: To use the sample, you must provide a developer key obtained\n",
    "#       in the Google APIs Console. Search for \"REPLACE_ME\" in this code\n",
    "#       to find the correct place to provide that key..\n",
    "\n",
    "import argparse\n",
    "\n",
    "from googleapiclient.discovery import build\n",
    "from googleapiclient.errors import HttpError\n",
    "\n",
    "\n",
    "# Set DEVELOPER_KEY to the API key value from the APIs & auth > Registered apps\n",
    "# tab of\n",
    "#   https://cloud.google.com/console\n",
    "# Please ensure that you have enabled the YouTube Data API for your project.\n",
    "DEVELOPER_KEY = 'INSERT YOUR API KEY HERE REPLACE_ME'\n",
    "YOUTUBE_API_SERVICE_NAME = 'youtube'\n",
    "YOUTUBE_API_VERSION = 'v3'\n",
    "\n",
    "def youtube_search(options):\n",
    "  youtube = build(YOUTUBE_API_SERVICE_NAME, YOUTUBE_API_VERSION,\n",
    "    developerKey=DEVELOPER_KEY)\n",
    "\n",
    "  # Call the search.list method to retrieve results matching the specified\n",
    "  # query term.\n",
    "  search_response = youtube.search().list(\n",
    "    q=options.q,\n",
    "    type='video',\n",
    "    location=options.location,\n",
    "    locationRadius=options.location_radius,\n",
    "    part='id,snippet',\n",
    "    maxResults=options.max_results\n",
    "    order = 'date' #New for Satish\n",
    "      #https://developers.google.com/youtube/v3/docs/search/list\n",
    "  ).execute()\n",
    "\n",
    "  search_videos = []\n",
    "\n",
    "  # Merge video ids\n",
    "  for search_result in search_response.get('items', []):\n",
    "    search_videos.append(search_result['id']['videoId'])\n",
    "  video_ids = ','.join(search_videos)\n",
    "\n",
    "  # Call the videos.list method to retrieve location details for each video.\n",
    "  video_response = youtube.videos().list(\n",
    "    id=video_ids,\n",
    "    part='snippet, recordingDetails'\n",
    "  ).execute()\n",
    "\n",
    "  videos = []\n",
    "\n",
    "  # Add each result to the list, and then display the list of matching videos.\n",
    "  for video_result in video_response.get('items', []):\n",
    "    videos.append('%s, (%s,%s)' % (video_result['snippet']['title'],\n",
    "                              video_result['recordingDetails']['location']['latitude'],\n",
    "                              video_result['recordingDetails']['location']['longitude']))\n",
    "\n",
    "  print('Videos:\\n', '\\n'.join(videos), '\\n')\n",
    "\n",
    "\n",
    "if __name__ == '__main__':\n",
    "  parser = argparse.ArgumentParser()\n",
    "  parser.add_argument('--q', help='Search term', default='Google')\n",
    "  parser.add_argument('--location', help='Location', default='37.42307,-122.08427')\n",
    "  parser.add_argument('--location-radius', help='Location radius', default='5km')\n",
    "  parser.add_argument('--max-results', help='Max results', default=25)\n",
    "  #Reference https://stackoverflow.com/questions/48796169/how-to-fix-ipykernel-launcher-py-error-unrecognized-arguments-in-jupyter\n",
    "  #args = parser.parse_args()\n",
    "  args = parser.parse_known_args()[0]\n",
    "\n",
    "  try:\n",
    "    youtube_search(args)\n",
    "  except HttpError as e:\n",
    "    print('An HTTP error %d occurred:\\n%s' % (e.resp.status, e.content))"
   ],
   "execution_count": 6,
   "outputs": [
    {
     "output_type": "stream",
     "text": [
      "Videos:\n",
      " Google HQ Tour, (37.3860517,-122.0838511)\n",
      "Google Job Interview - Front End Engineer, (37.4219999,-122.0840575)\n",
      "MuteSix x Google: About Our Agency, (37.4219999,-122.0840575)\n",
      "Tham quan Google Headquarters ở Mỹ, (37.4219999,-122.0840575)\n",
      "ARCore Demo at Google I/O, (37.426599,-122.08058)\n",
      "Google Home, Weird Voice Glitch, (37.422,-122.084058)\n",
      "Building Conversational Experiences with Actions on Google, (37.417963,-122.07105)\n",
      "Android Automotive in a Volvo XC40 - Google I/O 2018, (37.426599,-122.08058)\n",
      "San Francisco: An Interesting Event by Google. The Party and Awards. “Local Guides Connect”, (37.3991175,-122.0577956)\n",
      "Google I/O 2018 : Highlights || 🔥🔥What's New🔥🔥|| Android P Launch || Google Lens Updated ||, (37.395185,-122.077369)\n",
      "google, (37.4194957,-122.0876641)\n",
      "how to download ultimate brain booster for free, (37.4219999,-122.0840575)\n",
      "About google, (37.4219999,-122.0840575)\n",
      "Google and Apple, (37.422,-122.084058)\n",
      "Google Duplex - Google's AI Sounds Like A Human On Phone - The future of Artificial intelligence???, (37.387474,-122.057543)\n",
      "Dynamic playlists with ExoPlayer  - google-exoplayer-How to make a video playlist?, (37.422,-122.084058)\n",
      "Google Pixel 3 Specification, (37.386052,-122.083851)\n",
      "Google Assistant Glitch, (37.4219999,-122.0840575)\n",
      "Allan Rangel na Google, (37.398645,-122.058536)\n",
      "Google Intern Diaries: Inaugural Address, (37.441883,-122.143019)\n",
      "Sliding into Google's DMs!, (37.4219999,-122.0840575)\n",
      "Google News 5.0 - Quickfire Review, (37.426599,-122.08058)\n",
      "シリコンバレーのGoogle本社ツアー。お土産がたくさんあるよ！, (37.422,-122.084058)\n",
      "Unboxing Google Home Hub, (37.4062917,-122.0213032)\n",
      "Google, (37.4228446,-122.0886266) \n",
      "\n"
     ],
     "name": "stdout"
    }
   ]
  }
 ]
}